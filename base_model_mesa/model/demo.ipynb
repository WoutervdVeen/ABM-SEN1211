{
 "cells": [
  {
   "attachments": {},
   "cell_type": "markdown",
   "metadata": {},
   "source": [
    "# Flood Adaptation: Minimal Model"
   ]
  },
  {
   "attachments": {},
   "cell_type": "markdown",
   "metadata": {},
   "source": [
    "This python script outlines a basic Agent-Based Model (ABM) developed using the Mesa framework, designed as a simplified representation of household adaptation to flood events in a social network context. The model serves as a template for understanding the fundamental mechanics of flood adapdtation with a given social network.\n",
    "\n",
    "This directory is structured as follows:\n",
    " - A Mesa Agent class `Households` is defined in `agents.py`\n",
    " - A Mesa Agent class `Government` is defined in `agents.py` (this agent currently does not perform any action)\n",
    " - A Mesa Model class `AdaptationModel` is defined in `model.py`\n",
    " - This notebook `demo.ipynb` provides a demonstration of the model and its visualization.\n",
    "\n",
    "Each household agent in the model represents a household with attributes and behaviors that determine its response to flood events. The flood depth attribute assigned to each household is currently random for demonstration purposes. The decision by each household to adapt is also arbitrary. In a more comprehensive model, this could be replaced with more sophisticated decision-making algorithms.\n",
    "\n",
    "The current implementation includes several simplifications and arbitrary choices, such as random flood depths and basic adaptation logic based on random thresholds. These aspects are designed for clarity and ease of understanding and should be replaced with realistic and sound choices.\n",
    "\n",
    "You are encouraged to modify, expand, and customize the model. This might include integrating real-world data, implementing more complex decision-making processes for agents, or exploring different network topologies and their effects on social dynamics.\n",
    "\n",
    "The visualisation provided is basic. Additional aspects can be added for visualization and more in-depth analysis.\n",
    "\n",
    "_This notebook was tested on 2023-11-13 with Mesa version 2.1.4 on Python 3.12.0._"
   ]
  },
  {
   "attachments": {},
   "cell_type": "markdown",
   "metadata": {},
   "source": [
    "# Running the model and visualizing the model domain and social network over time"
   ]
  },
  {
   "cell_type": "code",
   "execution_count": 1,
   "metadata": {
    "ExecuteTime": {
     "end_time": "2024-01-17T22:27:03.757336800Z",
     "start_time": "2024-01-17T22:26:58.920737400Z"
    }
   },
   "outputs": [
    {
     "ename": "KeyError",
     "evalue": "'agent'",
     "output_type": "error",
     "traceback": [
      "\u001B[1;31m---------------------------------------------------------------------------\u001B[0m",
      "\u001B[1;31mKeyError\u001B[0m                                  Traceback (most recent call last)",
      "Cell \u001B[1;32mIn[1], line 7\u001B[0m\n\u001B[0;32m      3\u001B[0m \u001B[38;5;28;01mimport\u001B[39;00m \u001B[38;5;21;01mnetworkx\u001B[39;00m \u001B[38;5;28;01mas\u001B[39;00m \u001B[38;5;21;01mnx\u001B[39;00m\n\u001B[0;32m      6\u001B[0m \u001B[38;5;66;03m# Initialize the Adaptation Model with 50 household agents.\u001B[39;00m\n\u001B[1;32m----> 7\u001B[0m model \u001B[38;5;241m=\u001B[39m AdaptationModel(number_of_households\u001B[38;5;241m=\u001B[39m\u001B[38;5;241m20\u001B[39m, flood_map_choice\u001B[38;5;241m=\u001B[39m\u001B[38;5;124m\"\u001B[39m\u001B[38;5;124mharvey\u001B[39m\u001B[38;5;124m\"\u001B[39m, network\u001B[38;5;241m=\u001B[39m\u001B[38;5;124m\"\u001B[39m\u001B[38;5;124mno_network\u001B[39m\u001B[38;5;124m\"\u001B[39m) \u001B[38;5;66;03m# flood_map_choice can be \"harvey\", \"100yr\", or \"500yr\"\u001B[39;00m\n\u001B[0;32m      9\u001B[0m \u001B[38;5;66;03m# Calculate positions of nodes for the network plot.\u001B[39;00m\n\u001B[0;32m     10\u001B[0m \u001B[38;5;66;03m# The spring_layout function positions nodes using a force-directed algorithm,\u001B[39;00m\n\u001B[0;32m     11\u001B[0m \u001B[38;5;66;03m# which helps visualize the structure of the social network.\u001B[39;00m\n\u001B[0;32m     12\u001B[0m pos \u001B[38;5;241m=\u001B[39m nx\u001B[38;5;241m.\u001B[39mspring_layout(model\u001B[38;5;241m.\u001B[39mG)\n",
      "File \u001B[1;32m~\\Documents\\GitHub\\ABM-SEN1211\\base_model_mesa\\model\\model.py:82\u001B[0m, in \u001B[0;36mAdaptationModel.__init__\u001B[1;34m(self, seed, number_of_households, flood_map_choice, network, probability_of_network_connection, number_of_edges, number_of_nearest_neighbours)\u001B[0m\n\u001B[0;32m     80\u001B[0m gov_node \u001B[38;5;241m=\u001B[39m \u001B[38;5;28mmax\u001B[39m(\u001B[38;5;28mself\u001B[39m\u001B[38;5;241m.\u001B[39mG\u001B[38;5;241m.\u001B[39mnodes()) \u001B[38;5;241m+\u001B[39m \u001B[38;5;241m1\u001B[39m  \u001B[38;5;66;03m# Create a new node ID\u001B[39;00m\n\u001B[0;32m     81\u001B[0m \u001B[38;5;28mself\u001B[39m\u001B[38;5;241m.\u001B[39mG\u001B[38;5;241m.\u001B[39madd_node(gov_node)  \u001B[38;5;66;03m# Add the new node to the network\u001B[39;00m\n\u001B[1;32m---> 82\u001B[0m \u001B[38;5;28mself\u001B[39m\u001B[38;5;241m.\u001B[39mgrid\u001B[38;5;241m.\u001B[39mplace_agent(\u001B[38;5;28mself\u001B[39m\u001B[38;5;241m.\u001B[39mgovernment, gov_node)  \u001B[38;5;66;03m# Place the Government agent on the new node\u001B[39;00m\n\u001B[0;32m     85\u001B[0m \u001B[38;5;66;03m# Data collection setup to collect data\u001B[39;00m\n\u001B[0;32m     86\u001B[0m model_metrics \u001B[38;5;241m=\u001B[39m {\n\u001B[0;32m     87\u001B[0m                 \u001B[38;5;124m\"\u001B[39m\u001B[38;5;124mtotal_adapted_households\u001B[39m\u001B[38;5;124m\"\u001B[39m: \u001B[38;5;28mself\u001B[39m\u001B[38;5;241m.\u001B[39mtotal_adapted_households,\n\u001B[0;32m     88\u001B[0m                 \u001B[38;5;66;03m# ... other reporters ...\u001B[39;00m\n\u001B[0;32m     89\u001B[0m                 }\n",
      "File \u001B[1;32m~\\anaconda3\\Lib\\site-packages\\mesa\\space.py:1009\u001B[0m, in \u001B[0;36mNetworkGrid.place_agent\u001B[1;34m(self, agent, node_id)\u001B[0m\n\u001B[0;32m   1007\u001B[0m \u001B[38;5;28;01mdef\u001B[39;00m \u001B[38;5;21mplace_agent\u001B[39m(\u001B[38;5;28mself\u001B[39m, agent: Agent, node_id: \u001B[38;5;28mint\u001B[39m) \u001B[38;5;241m-\u001B[39m\u001B[38;5;241m>\u001B[39m \u001B[38;5;28;01mNone\u001B[39;00m:\n\u001B[0;32m   1008\u001B[0m \u001B[38;5;250m    \u001B[39m\u001B[38;5;124;03m\"\"\"Place an agent in a node.\"\"\"\u001B[39;00m\n\u001B[1;32m-> 1009\u001B[0m     \u001B[38;5;28mself\u001B[39m\u001B[38;5;241m.\u001B[39mG\u001B[38;5;241m.\u001B[39mnodes[node_id][\u001B[38;5;124m\"\u001B[39m\u001B[38;5;124magent\u001B[39m\u001B[38;5;124m\"\u001B[39m]\u001B[38;5;241m.\u001B[39mappend(agent)\n\u001B[0;32m   1010\u001B[0m     agent\u001B[38;5;241m.\u001B[39mpos \u001B[38;5;241m=\u001B[39m node_id\n",
      "\u001B[1;31mKeyError\u001B[0m: 'agent'"
     ]
    }
   ],
   "source": [
    "from model import AdaptationModel\n",
    "import matplotlib.pyplot as plt\n",
    "import networkx as nx\n",
    "\n",
    "\n",
    "# Initialize the Adaptation Model with 50 household agents.\n",
    "model = AdaptationModel(number_of_households=20, flood_map_choice=\"harvey\", network=\"no_network\") # flood_map_choice can be \"harvey\", \"100yr\", or \"500yr\"\n",
    "\n",
    "# Calculate positions of nodes for the network plot.\n",
    "# The spring_layout function positions nodes using a force-directed algorithm,\n",
    "# which helps visualize the structure of the social network.\n",
    "pos = nx.spring_layout(model.G)\n",
    "\n",
    "# Define a function to plot agents on the network.\n",
    "# This function takes a matplotlib axes object and the model as inputs.\n",
    "# def plot_network(ax, model):\n",
    "#     ax.clear()\n",
    "# \n",
    "#     # Create a color list for each node in the network\n",
    "#     colors = []\n",
    "#     for node_id in model.G.nodes():\n",
    "#         agents = model.grid.get_cell_list_contents([node_id])\n",
    "#         if agents:\n",
    "#             agent = agents[0]  # Assuming one agent per node\n",
    "#             if isinstance(agent, Households):\n",
    "#                 colors.append('blue' if agent.is_adapted else 'red')\n",
    "#             elif isinstance(agent, Government):\n",
    "#                 colors.append('purple')\n",
    "#             else:\n",
    "#                 print(f\"Unknown agent type at node {node_id}: {type(agent)}\")\n",
    "#                 colors.append('grey')\n",
    "#         else:\n",
    "#             colors.append('grey')  # Nodes without agents\n",
    "# \n",
    "#     # Draw the network with the assigned node colors\n",
    "#     nx.draw(model.G, pos, node_color=colors, with_labels=True, ax=ax)\n",
    "#     ax.set_title(f\"Social Network State at Step {model.schedule.steps}\", fontsize=12)\n",
    "# \n",
    "\n",
    "\n",
    "\n",
    "#*******************ORIGINAL CODE\n",
    "def plot_network(ax, model):\n",
    "    # Clear the current axes.\n",
    "    ax.clear()\n",
    "    # Determine the color of each node (agent) based on their adaptation status.\n",
    "    colors = ['blue' if agent.is_adapted else 'red' for agent in model.schedule.agents]\n",
    "    # Draw the network with node colors and labels.\n",
    "    nx.draw(model.G, pos, node_color=colors, with_labels=True, ax=ax)\n",
    "    # Set the title of the plot with the current step number.\n",
    "    ax.set_title(f\"Social Network State at Step {model.schedule.steps}\", fontsize=12)\n",
    "\n",
    "#*******************ORIGINAL CODE    \n",
    "    \n",
    "# Generate the initial plots at step 0.\n",
    "# Plot the spatial distribution of agents. This is a function written in the model.py\n",
    "model.plot_model_domain_with_agents()\n",
    "\n",
    "# Plot the initial state of the social network.\n",
    "fig, ax = plt.subplots(figsize=(7, 7))\n",
    "plot_network(ax, model)\n",
    "plt.show()\n",
    "\n",
    "# Run the model for 20 steps and generate plots every 5 steps.\n",
    "for step in range(6):\n",
    "    model.step()\n",
    "\n",
    "    # Every 5 steps, generate and display plots for both the spatial distribution and network.\n",
    "    # Note the first step is step 0, so the plots will be generated at steps 4, 9, 14, and 19, which are the 5th, 10th, 15th, and 20th steps.\n",
    "    if (step + 1) % 40 == 5:\n",
    "        # Plot for the spatial map showing agent locations and adaptation status.\n",
    "        plt.figure(figsize=(10, 6))\n",
    "        model.plot_model_domain_with_agents()\n",
    "\n",
    "        # Plot for the social network showing connections and adaptation statuses.\n",
    "        fig, ax = plt.subplots(figsize=(7, 7))\n",
    "        plot_network(ax, model)\n",
    "        plt.show()\n",
    "        \n"
   ]
  },
  {
   "cell_type": "code",
   "execution_count": null,
   "metadata": {
    "ExecuteTime": {
     "start_time": "2024-01-17T22:27:03.754346100Z"
    }
   },
   "outputs": [],
   "source": [
    "# agent_data = model.datacollector.get_agent_vars_dataframe()\n",
    "# agent_data\n",
    "\n",
    "agent_data = model.datacollector.get_agent_vars_dataframe()\n",
    "\n",
    "# Replace 'agent_unique_id' with the unique identifier of the specific agent you want to retrieve data for\n",
    "specific_agent_data = agent_data.xs(3, level='AgentID')\n",
    "\n",
    "specific_agent_data\n",
    "\n"
   ]
  },
  {
   "cell_type": "code",
   "execution_count": null,
   "metadata": {
    "ExecuteTime": {
     "start_time": "2024-01-17T22:27:03.755342200Z"
    }
   },
   "outputs": [],
   "source": [
    "model_data = model.datacollector.get_model_vars_dataframe()\n",
    "model_data"
   ]
  },
  {
   "cell_type": "code",
   "execution_count": null,
   "metadata": {
    "ExecuteTime": {
     "start_time": "2024-01-17T22:27:03.757336800Z"
    }
   },
   "outputs": [],
   "source": [
    "import pandas as pd \n",
    "from agents import Households\n",
    "\n",
    "\n",
    "# Assuming you have a list of agents in your model\n",
    "agents = model.schedule.agents\n",
    "\n",
    "# Record initial flood damage\n",
    "initial_flood_damage = {agent.unique_id: agent.flood_damage_estimated for agent in agents if isinstance(agent, Households)}\n",
    "\n",
    "# Run the model steps where agents buy protection\n",
    "# (Your model execution logic here)\n",
    "\n",
    "# Record post-protection flood damage\n",
    "post_protection_flood_damage = {agent.unique_id: agent.flood_damage_estimated for agent in agents if isinstance(agent, Households)}\n",
    "\n",
    "# Create a DataFrame\n",
    "flood_damage_df = pd.DataFrame({\n",
    "    'Agent ID': initial_flood_damage.keys(),\n",
    "    'Initial Flood Damage': initial_flood_damage.values(),\n",
    "    'Flood Damage After Protection': post_protection_flood_damage.values()\n",
    "})\n",
    "\n",
    "# Output the DataFrame\n",
    "flood_damage_df\n"
   ]
  },
  {
   "cell_type": "code",
   "execution_count": null,
   "outputs": [],
   "source": [],
   "metadata": {
    "collapsed": false,
    "ExecuteTime": {
     "start_time": "2024-01-17T22:27:03.759332100Z"
    }
   }
  },
  {
   "cell_type": "code",
   "execution_count": null,
   "outputs": [],
   "source": [
    "from agents import Households\n",
    "import pandas as pd\n",
    "\n",
    "# Retrieve information about agents, adaptation status, and danger status\n",
    "agents_info = [(agent.income_class, agent.is_adapted, agent.in_danger) for agent in model.schedule.agents if isinstance(agent, Households)]\n",
    "\n",
    "# Create a DataFrame from the collected information\n",
    "agent_info_table = pd.DataFrame(agents_info, columns=['Income Class', 'Adapted', 'In Danger'])\n",
    "\n",
    "# Create a multi-level column structure\n",
    "table = agent_info_table.groupby('Income Class').apply(\n",
    "    lambda x: pd.Series({\n",
    "        ('Adapted', 'True'): sum(x['Adapted']),\n",
    "        ('Adapted', 'False'): sum(~x['Adapted']),\n",
    "        ('In Danger', 'True'): sum(x['In Danger']),\n",
    "        ('In Danger', 'False'): sum(~x['In Danger'])\n",
    "    })\n",
    ").fillna(0).astype(int)\n",
    "\n",
    "# Calculate total count of adapted agents\n",
    "total_adapted = agent_info_table[agent_info_table['Adapted']].shape[0]\n",
    "\n",
    "# # Print total count of adapted agents\n",
    "print(f\"\\nTotal Adapted Agents: {total_adapted}\")\n",
    "table\n",
    "\n"
   ],
   "metadata": {
    "collapsed": false,
    "ExecuteTime": {
     "start_time": "2024-01-17T22:27:03.761327100Z"
    }
   }
  },
  {
   "cell_type": "code",
   "execution_count": null,
   "outputs": [],
   "source": [],
   "metadata": {
    "collapsed": false,
    "ExecuteTime": {
     "end_time": "2024-01-17T22:27:03.769304600Z",
     "start_time": "2024-01-17T22:27:03.762323700Z"
    }
   }
  },
  {
   "cell_type": "code",
   "execution_count": null,
   "outputs": [],
   "source": [
    "# from model import AdaptationModel\n",
    "# \n",
    "# \n",
    "# model = AdaptationModel(number_of_households=20, flood_map_choice=\"harvey\", network=\"watts_strogatz\") # flood_map_choice can be \"harvey\", \"100yr\", or \"500yr\"\n",
    "# # Print the network\n",
    "# print(\"Network:\", model.G)"
   ],
   "metadata": {
    "collapsed": false,
    "ExecuteTime": {
     "start_time": "2024-01-17T22:27:03.764318200Z"
    }
   }
  },
  {
   "cell_type": "code",
   "execution_count": null,
   "outputs": [],
   "source": [],
   "metadata": {
    "collapsed": false,
    "ExecuteTime": {
     "start_time": "2024-01-17T22:27:03.769304600Z"
    }
   }
  }
 ],
 "metadata": {
  "kernelspec": {
   "display_name": "tb231c",
   "language": "python",
   "name": "python3"
  },
  "language_info": {
   "codemirror_mode": {
    "name": "ipython",
    "version": 3
   },
   "file_extension": ".py",
   "mimetype": "text/x-python",
   "name": "python",
   "nbconvert_exporter": "python",
   "pygments_lexer": "ipython3",
   "version": "3.9.15"
  },
  "orig_nbformat": 4,
  "vscode": {
   "interpreter": {
    "hash": "ba734c44879edc1aadd96d1483e3c8c4b172ceac85e15a48cc8368b614d0488f"
   }
  }
 },
 "nbformat": 4,
 "nbformat_minor": 2
}
